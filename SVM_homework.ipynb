{
 "cells": [
  {
   "cell_type": "code",
   "execution_count": 1,
   "metadata": {},
   "outputs": [],
   "source": [
    "class SVM:\n",
    "\n",
    "    def __init__(self, learning_rate=0.001, lambda_param=0.01, n_iters=1000):\n",
    "        self.lr = learning_rate\n",
    "        self.lambda_param = lambda_param\n",
    "        self.n_iters = n_iters\n",
    "        self.w = None\n",
    "        self.b = None\n",
    "\n",
    "\n",
    "    def fit(self, X, y):\n",
    "        self.w=np.zeros(X.shape[1])\n",
    "        self.b=0\n",
    "        \n",
    "        for _ in range(self.n_iters):\n",
    "            for i in range(len(X)):\n",
    "                if y[i]*(np.dot(self.w,X[i])-self.b)>=1:\n",
    "                    dw=2*self.lambda_param*self.w\n",
    "                    self.w=self.w-self.lr*dw\n",
    "                else:\n",
    "                    dw=2*self.lambda_param*self.w-np.dot(X[i],y[i])\n",
    "                    db=y[i]\n",
    "                    self.w=self.w-self.lr*dw\n",
    "                    self.b=self.lr*y[i]\n",
    "    def predict(self, X):\n",
    "        y_pred=np.sign(np.dot(X, self.w)-self.b)\n",
    "        return y_pred"
   ]
  },
  {
   "cell_type": "code",
   "execution_count": 53,
   "metadata": {},
   "outputs": [
    {
     "data": {
      "text/plain": [
       "array([-1.,  1.,  1., -1., -1., -1.,  1.,  1., -1., -1.])"
      ]
     },
     "execution_count": 53,
     "metadata": {},
     "output_type": "execute_result"
    }
   ],
   "source": [
    "clf=SVM()\n",
    "clf.fit(X_train,y_train)\n",
    "clf.predict(X_test)"
   ]
  },
  {
   "cell_type": "code",
   "execution_count": null,
   "metadata": {},
   "outputs": [],
   "source": [
    "#manually"
   ]
  },
  {
   "cell_type": "code",
   "execution_count": null,
   "metadata": {},
   "outputs": [],
   "source": [
    "from sklearn.svm import SVC\n",
    "model=SVC(kernel='linear',C=0.01).fit(X_train, y_train)\n",
    "model.predict(X_test)"
   ]
  },
  {
   "cell_type": "code",
   "execution_count": null,
   "metadata": {},
   "outputs": [],
   "source": [
    "import numpy as np\n",
    "import matplotlib.pyplot as plt\n",
    "from sklearn import datasets\n",
    "from sklearn.model_selection import train_test_split\n",
    "\n",
    "X, y =  datasets.make_blobs(n_samples=50, n_features=2, centers=2, cluster_std=1.05, random_state=40)\n",
    "y = np.where(y == 0, -1, 1)\n",
    "\n",
    "X_train, X_test, y_train, y_test = train_test_split(X,y,test_size=0.2,random_state=0) \n",
    "\n",
    "clf = SVM()\n",
    "clf.fit(X_train, y_train)\n",
    "predictions = clf.predict(X_test)\n",
    "\n",
    "print(predictions)\n",
    "print(clf.w, clf.b)"
   ]
  },
  {
   "cell_type": "code",
   "execution_count": 56,
   "metadata": {},
   "outputs": [
    {
     "data": {
      "image/png": "[encoded data removed]",
      "text/plain": [
       "<Figure size 432x288 with 1 Axes>"
      ]
     },
     "metadata": {
      "needs_background": "light"
     },
     "output_type": "display_data"
    }
   ],
   "source": [
    "def visualize_svm():\n",
    "    def get_hyperplane_value(x, w, b, offset):\n",
    "        return (-w[0] * x + b + offset) / w[1]\n",
    "\n",
    "    fig = plt.figure()\n",
    "    ax = fig.add_subplot(1,1,1)\n",
    "    plt.scatter(X[:,0], X[:,1], marker='o',c=y)\n",
    "\n",
    "    x0_1 = np.amin(X[:,0])\n",
    "    x0_2 = np.amax(X[:,0])\n",
    "\n",
    "    x1_1 = get_hyperplane_value(x0_1, clf.w, clf.b, 0)\n",
    "    x1_2 = get_hyperplane_value(x0_2, clf.w, clf.b, 0)\n",
    "\n",
    "    x1_1_m = get_hyperplane_value(x0_1, clf.w, clf.b, -1)\n",
    "    x1_2_m = get_hyperplane_value(x0_2, clf.w, clf.b, -1)\n",
    "\n",
    "    x1_1_p = get_hyperplane_value(x0_1, clf.w, clf.b, 1)\n",
    "    x1_2_p = get_hyperplane_value(x0_2, clf.w, clf.b, 1)\n",
    "\n",
    "    ax.plot([x0_1, x0_2],[x1_1, x1_2], 'y--')\n",
    "    ax.plot([x0_1, x0_2],[x1_1_m, x1_2_m], 'k')\n",
    "    ax.plot([x0_1, x0_2],[x1_1_p, x1_2_p], 'k')\n",
    "\n",
    "    x1_min = np.amin(X[:,1])\n",
    "    x1_max = np.amax(X[:,1])\n",
    "    ax.set_ylim([x1_min-3,x1_max+3])\n",
    "\n",
    "    plt.show()\n",
    "\n",
    "visualize_svm()"
   ]
  },
  {
   "cell_type": "code",
   "execution_count": null,
   "metadata": {},
   "outputs": [],
   "source": []
  },
  {
   "cell_type": "code",
   "execution_count": null,
   "metadata": {},
   "outputs": [],
   "source": []
  }
 ],
 "metadata": {
  "kernelspec": {
   "display_name": "Python 3",
   "language": "python",
   "name": "python3"
  },
  "language_info": {
   "codemirror_mode": {
    "name": "ipython",
    "version": 3
   },
   "file_extension": ".py",
   "mimetype": "text/x-python",
   "name": "python",
   "nbconvert_exporter": "python",
   "pygments_lexer": "ipython3",
   "version": "3.7.6"
  }
 },
 "nbformat": 4,
 "nbformat_minor": 4
}
